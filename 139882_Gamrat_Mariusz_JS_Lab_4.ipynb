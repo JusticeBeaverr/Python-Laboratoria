{
 "cells": [
  {
   "cell_type": "markdown",
   "metadata": {
    "deletable": false,
    "editable": false,
    "nbgrader": {
     "cell_type": "markdown",
     "checksum": "cb243103c6ebccd75219760a449bf042",
     "grade": false,
     "grade_id": "cell-26614cab1c00933b",
     "locked": true,
     "schema_version": 3,
     "solution": false,
     "task": false
    }
   },
   "source": [
    "# Języki symboliczne - rok akademicki 2021/2022\n",
    "\n",
    "Przed rozpoczęciem pracy z notatnikiem zmień jego nazwę zgodnie z wzorem: `NrAlbumu_Nazwisko_Imie_PoprzedniaNazwa`\n",
    "\n",
    "Przed wysłaniem notatnika **upewnij się jeszcze raz** że zmieniłeś nazwę i że rozwiązałeś wszystkie zadania/ćwiczenia, w szczególności, że uzupełniłeś wszystkie pola `YOUR CODE HERE` oraz `YOUR ANSWER HERE`."
   ]
  },
  {
   "cell_type": "markdown",
   "metadata": {
    "deletable": false,
    "editable": false,
    "nbgrader": {
     "cell_type": "markdown",
     "checksum": "de74cf3138542217ef8389408bd8ff19",
     "grade": false,
     "grade_id": "cell-51d5c973082f0959",
     "locked": true,
     "schema_version": 3,
     "solution": false
    }
   },
   "source": [
    "# Temat: Krotki. Zbiory. Słowniki.\n",
    "Zapoznaj się z treścią niniejszego notatnika czytając i wykonując go komórka po komórce. Wykonaj napotkane zadania/ćwiczenia.\n",
    "\n",
    "## Krotki\n",
    "\n",
    "\n",
    "- Krotka to nowy typ zmiennych: `tuple`. \n",
    "- Typ `immutable` - niemutowalny.\n",
    "- Składają się z pewnej liczby elementów oddzielonych przecinkiem, można je ująć w nawiasy `()` (czasami jest to wręcz konieczne gdy np. występują zagnieżdżenia lub jeśli stosujemy je w wyrażeniach).\n",
    "- Mają wiele zastosowań (np. jako para współrzędnych `(x,y)`, rekord pracowników z bazy danych itd.)\n",
    "- Nie jest możliwe przypisanie poszczególnym elementom takiej listy wartości, aczkolwiek można to zasymulować poprzez wycinanie i sklejanie. \n",
    "- Możliwe jest tworzenie krotek, które zawierają mutowalne obiekty takie jak np. listy.\n",
    "- Zwykle zawierają heterogeniczne sekwencje danych.\n",
    "- Przy pomocy operatorów `in`, `not in` można testować przynależność elementu do krotki.\n",
    "- Funkcja zwracająca kilka obiektów, zwraca je jako krotkę.\n",
    "\n",
    "\n",
    "### Tworzenie krotek. Funkcja `tuple()`, użycie `()`. \n",
    "Aby utworzyć krotkę należy użyć nawiasów `()` lub funkcji `tuple()` z argumentem bedącym obiektem iterowalnym. Jeżeli nie podamy żadnych argumentów tworzona jest pusta krotka. Krotkę możemy utorzyć z kilku obiektów oddzielonych przecinkami (bez użycia nawiasów `()`). Krotki z jednym elementem tworzymy poprzez wartość, po której następuje przecinek (nie wystarcza otoczyć pojedynczą wartość nawiasami okrągłymi).\n",
    "\n",
    "\n",
    "#### Proste przykłady:"
   ]
  },
  {
   "cell_type": "code",
   "execution_count": 1,
   "metadata": {},
   "outputs": [
    {
     "name": "stdout",
     "output_type": "stream",
     "text": [
      "<class 'tuple'>\n",
      "(1, 2, 3, 4, 5)\n",
      "True\n",
      "False\n",
      "3\n",
      "(2, 3)\n"
     ]
    }
   ],
   "source": [
    "k = (1,2,3,4,5)  # tworzenie krotki\n",
    "print(type(k))\n",
    "print(k)\n",
    "print(2 in k)  # spradzenie czy element jest w krotce\n",
    "print(0 in k)\n",
    "print(k[2])    # wypisanie elementu\n",
    "print(k[1:3])"
   ]
  },
  {
   "cell_type": "code",
   "execution_count": null,
   "metadata": {},
   "outputs": [],
   "source": [
    "k1 = 11, [21, 22], 'tekst' # tworzenie krotki - krotka może zawierać obiekty różnych typów\n",
    "print(type(k1))\n",
    "print(k1)\n",
    "print(k1[1][1])\n",
    "print(k1[2][2])"
   ]
  },
  {
   "cell_type": "code",
   "execution_count": null,
   "metadata": {},
   "outputs": [],
   "source": [
    "k = (1,2,3,4,5)\n",
    "t = k, (22,33,44) #krotki można zagnieżdżać\n",
    "print(t)\n",
    "print(t[1][1])"
   ]
  },
  {
   "cell_type": "code",
   "execution_count": null,
   "metadata": {},
   "outputs": [],
   "source": [
    "k = (1,2,3,4,5)\n",
    "k[2] = 111   #błąd - krotka jest obiektem niemutowalnym"
   ]
  },
  {
   "cell_type": "code",
   "execution_count": 1,
   "metadata": {},
   "outputs": [
    {
     "name": "stdout",
     "output_type": "stream",
     "text": [
      "<class 'tuple'> ([1, 2, 3], [3, 2, 1])\n",
      "<class 'tuple'> ([1, 2, 3], [3, 111, 1])\n"
     ]
    }
   ],
   "source": [
    "t = [1,2,3],[3,2,1]\n",
    "print(type(t),t)    # krotki mogą zwracać/zawierać obiekty mutowalne - wtedy można modyfikować takie elementy\n",
    "t[1][1] = 111     \n",
    "print(type(t),t)"
   ]
  },
  {
   "cell_type": "code",
   "execution_count": 2,
   "metadata": {},
   "outputs": [
    {
     "name": "stdout",
     "output_type": "stream",
     "text": [
      "() ()\n",
      "('a',)\n",
      "(1,)\n"
     ]
    }
   ],
   "source": [
    "p = ()     #pusta krotka\n",
    "r = tuple()\n",
    "print(p,r)\n",
    "s = 'a',   #krotka jednoelementowa\n",
    "print(s)\n",
    "p = 1,\n",
    "print(p)"
   ]
  },
  {
   "cell_type": "code",
   "execution_count": null,
   "metadata": {},
   "outputs": [],
   "source": [
    "k = (1,2,3,4,5) #rozpakowanie krotki - lista zmiennych po lewej stronie ma tyle samo elementów co krotka\n",
    "a, b, c, d, e = k\n",
    "print(k)\n",
    "print(*k)      #rozpakowanie krotki przy użyciu operatora *\n",
    "print(a,b,c,d,e)"
   ]
  },
  {
   "cell_type": "markdown",
   "metadata": {
    "deletable": false,
    "editable": false,
    "nbgrader": {
     "cell_type": "markdown",
     "checksum": "2513a52be1359d165acfd1c23583b116",
     "grade": false,
     "grade_id": "cell-dd6bd4c980a20db2",
     "locked": true,
     "schema_version": 3,
     "solution": false,
     "task": false
    }
   },
   "source": [
    "### Ćwiczenie 1\n",
    "\n",
    "Napisz funkcję `sincos(x)` liczącą `sin(x)` oraz `cos(x)`, zwracającą obie te wartości naraz (krotka, `tuple`). Wypisz wyniki dla kątów od 0 do 90 stopni jak poniżej:\n",
    "```\n",
    "kąt:   0\t sin:   0.0000000000000000\t cos:   1.0000000000000000\n",
    "kąt:   9\t sin:   0.1564344650402309\t cos:   0.9876883405951378\n",
    "kąt:  18\t sin:   0.3090169943749474\t cos:   0.9510565162951535\n",
    "kąt:  27\t sin:   0.4539904997395467\t cos:   0.8910065241883679\n",
    "kąt:  36\t sin:   0.5877852522924731\t cos:   0.8090169943749475\n",
    "kąt:  45\t sin:   0.7071067811865476\t cos:   0.7071067811865476\n",
    "kąt:  54\t sin:   0.8090169943749475\t cos:   0.5877852522924731\n",
    "kąt:  63\t sin:   0.8910065241883678\t cos:   0.4539904997395468\n",
    "kąt:  72\t sin:   0.9510565162951535\t cos:   0.3090169943749475\n",
    "kąt:  81\t sin:   0.9876883405951378\t cos:   0.1564344650402309\n",
    "kąt:  90\t sin:   1.0000000000000000\t cos:   0.0000000000000001\n",
    "```\n"
   ]
  },
  {
   "cell_type": "code",
   "execution_count": 3,
   "metadata": {
    "deletable": false,
    "nbgrader": {
     "cell_type": "code",
     "checksum": "1b95901d6422590142617b93ed4efd59",
     "grade": false,
     "grade_id": "cell-783a526fc4d5f9a2",
     "locked": false,
     "schema_version": 3,
     "solution": true,
     "task": false
    }
   },
   "outputs": [
    {
     "name": "stdout",
     "output_type": "stream",
     "text": [
      "(0.0, 1.0)\n",
      "(0.8414709848078965, 0.5403023058681398)\n",
      "(0.9092974268256817, -0.4161468365471424)\n",
      "(0.1411200080598672, -0.9899924966004454)\n",
      "(-0.7568024953079282, -0.6536436208636119)\n",
      "(-0.9589242746631385, 0.28366218546322625)\n",
      "(-0.27941549819892586, 0.960170286650366)\n",
      "(0.6569865987187891, 0.7539022543433046)\n",
      "(0.9893582466233818, -0.14550003380861354)\n",
      "(0.4121184852417566, -0.9111302618846769)\n",
      "(-0.5440211108893698, -0.8390715290764524)\n",
      "(-0.9999902065507035, 0.004425697988050785)\n",
      "(-0.5365729180004349, 0.8438539587324921)\n",
      "(0.4201670368266409, 0.9074467814501962)\n",
      "(0.9906073556948704, 0.1367372182078336)\n",
      "(0.6502878401571168, -0.7596879128588213)\n",
      "(-0.2879033166650653, -0.9576594803233847)\n",
      "(-0.9613974918795568, -0.27516333805159693)\n",
      "(-0.7509872467716762, 0.6603167082440802)\n",
      "(0.14987720966295234, 0.9887046181866692)\n",
      "(0.9129452507276277, 0.40808206181339196)\n",
      "(0.8366556385360561, -0.5477292602242684)\n",
      "(-0.008851309290403876, -0.9999608263946371)\n",
      "(-0.8462204041751706, -0.5328330203333975)\n",
      "(-0.9055783620066238, 0.424179007336997)\n",
      "(-0.13235175009777303, 0.9912028118634736)\n",
      "(0.7625584504796027, 0.6469193223286404)\n",
      "(0.956375928404503, -0.2921388087338362)\n",
      "(0.27090578830786904, -0.9626058663135666)\n",
      "(-0.6636338842129675, -0.7480575296890004)\n",
      "(-0.9880316240928618, 0.15425144988758405)\n",
      "(-0.404037645323065, 0.9147423578045313)\n",
      "(0.5514266812416906, 0.8342233605065102)\n",
      "(0.9999118601072672, -0.013276747223059479)\n",
      "(0.5290826861200238, -0.8485702747846052)\n",
      "(-0.428182669496151, -0.9036922050915067)\n",
      "(-0.9917788534431158, -0.12796368962740468)\n",
      "(-0.6435381333569995, 0.7654140519453434)\n",
      "(0.2963685787093853, 0.9550736440472949)\n",
      "(0.9637953862840878, 0.26664293235993725)\n",
      "(0.7451131604793488, -0.6669380616522619)\n",
      "(-0.158622668804709, -0.9873392775238264)\n",
      "(-0.9165215479156338, -0.39998531498835127)\n",
      "(-0.8317747426285983, 0.5551133015206257)\n",
      "(0.017701925105413577, 0.9998433086476912)\n",
      "(0.8509035245341184, 0.5253219888177297)\n",
      "(0.9017883476488092, -0.4321779448847783)\n",
      "(0.123573122745224, -0.9923354691509287)\n",
      "(-0.7682546613236668, -0.6401443394691997)\n",
      "(-0.9537526527594719, 0.3005925437436371)\n",
      "(-0.26237485370392877, 0.9649660284921133)\n",
      "(0.6702291758433747, 0.7421541968137826)\n",
      "(0.9866275920404853, -0.16299078079570548)\n",
      "(0.39592515018183416, -0.9182827862121189)\n",
      "(-0.5587890488516163, -0.8293098328631502)\n",
      "(-0.9997551733586199, 0.022126756261955736)\n",
      "(-0.5215510020869119, 0.853220107722584)\n",
      "(0.43616475524782494, 0.8998668269691937)\n",
      "(0.9928726480845371, 0.11918013544881928)\n",
      "(0.6367380071391379, -0.7710802229758452)\n",
      "(-0.3048106211022167, -0.9524129804151563)\n",
      "(-0.9661177700083929, -0.25810163593826746)\n",
      "(-0.7391806966492228, 0.6735071623235862)\n",
      "(0.16735570030280691, 0.9858965815825497)\n",
      "(0.9200260381967907, 0.39185723042955)\n",
      "(0.8268286794901034, -0.562453851238172)\n",
      "(-0.026551154023966794, -0.99964745596635)\n",
      "(-0.8555199789753223, -0.5177697997895051)\n",
      "(-0.8979276806892913, 0.4401430224960407)\n",
      "(-0.11478481378318722, 0.9933903797222716)\n",
      "(0.7738906815578891, 0.6333192030862999)\n",
      "(0.9510546532543747, -0.3090227281660707)\n",
      "(0.25382336276203626, -0.9672505882738824)\n",
      "(-0.6767719568873076, -0.7361927182273159)\n",
      "(-0.9851462604682474, 0.17171734183077755)\n",
      "(-0.38778163540943045, 0.9217512697247493)\n",
      "(0.5661076368981803, 0.8243313311075577)\n",
      "(0.9995201585807313, -0.03097503173121646)\n",
      "(0.5139784559875352, -0.8578030932449878)\n",
      "(-0.4441126687075084, -0.8959709467909631)\n",
      "(-0.9938886539233752, -0.11038724383904756)\n",
      "(-0.6298879942744539, 0.7766859820216312)\n",
      "(0.31322878243308516, 0.9496776978825432)\n",
      "(0.9683644611001854, 0.24954011797333814)\n",
      "(0.7331903200732922, -0.6800234955873388)\n",
      "(-0.1760756199485871, -0.9843766433940419)\n",
      "(-0.9234584470040598, -0.38369844494974187)\n",
      "(-0.8218178366308225, 0.569750334265312)\n",
      "(0.03539830273366068, 0.9993732836951247)\n",
      "(0.8600694058124532, 0.5101770449416689)\n",
      "(0.8939966636005579, -0.4480736161291701)\n"
     ]
    }
   ],
   "source": [
    "import math\n",
    "def sincos():\n",
    "    \n",
    "    for x in range(91):\n",
    "        sinus = math.sin(x)\n",
    "        cosinus = math.cos(x)\n",
    "        wynik = sinus, cosinus\n",
    "        print(wynik)\n",
    "\n",
    "\n",
    "sincos()\n",
    "\n"
   ]
  },
  {
   "cell_type": "markdown",
   "metadata": {
    "deletable": false,
    "editable": false,
    "nbgrader": {
     "cell_type": "markdown",
     "checksum": "41070e7f92699a8b28d795de16e0f94e",
     "grade": false,
     "grade_id": "cell-b1761b0051009272",
     "locked": true,
     "schema_version": 3,
     "solution": false,
     "task": false
    }
   },
   "source": [
    "## Zbiory\n",
    "\n",
    "- Zbiór jest nieuporządkowaną kolekcją nie zawierającą duplikatów.\n",
    "- Zbiór to nowy typ zmiennych: `set`. \n",
    "- Przy pomocy operatorów `in`, `not in` można testować przynależność elementu do zbioru\n",
    "- Zbiory umożliwiają wykonywanie takich operacji jak: suma, przecięcie, różnica oraz różnica symetryczna.\n",
    "\n",
    "\n",
    "### Tworzenie zbiorów. Funkcja `set()`, użycie `{}`. \n",
    "Aby utworzyć zbiór należy użyć nawiasów `{}` lub funkcji `set()` z argumentem bedącym obiektem iterowalnym.\n",
    "Aby utworzyć zbiór pusty należy użyć funkcji `set()` bez argumentów, a nie nawiasów `{}`(konstrukcja `{}` tworzy pusty słownik).\n",
    "\n",
    "\n",
    "#### Proste przykłady:"
   ]
  },
  {
   "cell_type": "code",
   "execution_count": null,
   "metadata": {},
   "outputs": [],
   "source": [
    "z = {1,2,3,4,5}  # tworzenie zbioru\n",
    "print(type(z))\n",
    "print(z)\n",
    "print(2 in z)  # spradzenie element jest w zbiorze\n",
    "print(0 in z)"
   ]
  },
  {
   "cell_type": "code",
   "execution_count": null,
   "metadata": {},
   "outputs": [],
   "source": [
    "p = [1,2,3,1,3,5,1]\n",
    "print(p)\n",
    "zp = set(p)  # tworzenie zbioru z listy\n",
    "print(zp)"
   ]
  },
  {
   "cell_type": "code",
   "execution_count": 16,
   "metadata": {},
   "outputs": [
    {
     "data": {
      "text/plain": [
       "{'a', 'f', 'i', 'k', 'm', 'n', 'o', 'r', 't', 'y'}"
      ]
     },
     "execution_count": 16,
     "metadata": {},
     "output_type": "execute_result"
    }
   ],
   "source": [
    "zt = set('informatyka')  # tworzenie zbioru z tekstu\n",
    "zt"
   ]
  },
  {
   "cell_type": "code",
   "execution_count": null,
   "metadata": {},
   "outputs": [],
   "source": [
    "zp = set()  # tworzenie zbioru pustego\n",
    "print(zp)\n",
    "print(type(zp))"
   ]
  },
  {
   "cell_type": "markdown",
   "metadata": {
    "deletable": false,
    "editable": false,
    "nbgrader": {
     "cell_type": "markdown",
     "checksum": "aae360c86df9bb4b568073a9716d2e54",
     "grade": false,
     "grade_id": "cell-1b7e3d80b9d28ada",
     "locked": true,
     "schema_version": 3,
     "solution": false
    }
   },
   "source": [
    "### Podstawowe operacje na zbiorach:\n",
    "\n",
    "- `|` - Suma zbiorów\n",
    "\n",
    "- `&` - Przecięcie zbiorów\n",
    "\n",
    "- `-` - Różnica zbiorów\n",
    "\n",
    "- `^` - Różnica symetryczna zbiorów"
   ]
  },
  {
   "cell_type": "code",
   "execution_count": 17,
   "metadata": {},
   "outputs": [
    {
     "name": "stdout",
     "output_type": "stream",
     "text": [
      "{'m', 'n', 'f', 'o', 'a', 't', 'y', 'k', 'i', 'r'} {'f', 'y', 'a', 'k', 'i', 'z'}\n",
      "{'m', 'n', 'f', 'o', 'a', 't', 'y', 'k', 'i', 'r', 'z'}\n",
      "{'f', 'y', 'a', 'k', 'i'}\n",
      "{'m', 'n', 'o', 't', 'r'}\n",
      "{'z'}\n",
      "{'m', 't', 'r', 'n', 'o', 'z'}\n"
     ]
    }
   ],
   "source": [
    "a = set('informatyka')\n",
    "b = set('fizyka')\n",
    "print(a, b)\n",
    "print(a | b)\n",
    "print(a & b)\n",
    "print(a - b)\n",
    "print(b - a)\n",
    "print(a ^ b)"
   ]
  },
  {
   "cell_type": "markdown",
   "metadata": {
    "deletable": false,
    "editable": false,
    "nbgrader": {
     "cell_type": "markdown",
     "checksum": "ecc57743deb7061df7a854044d7e773a",
     "grade": false,
     "grade_id": "cell-0c2143825a18c9a3",
     "locked": true,
     "schema_version": 3,
     "solution": false
    }
   },
   "source": [
    "### Kopiowanie zbiorów\n",
    "Kopiowanie zbiorów odbywa sie poprzez referencje (tak jak w listach). Aby skopiować zbiór tworząc nowy obiekt należy użyć metody `copy()` klasy `set`."
   ]
  },
  {
   "cell_type": "code",
   "execution_count": null,
   "metadata": {},
   "outputs": [],
   "source": [
    "z = {1,2,3,4,5} \n",
    "p = z\n",
    "print(p)\n",
    "print(id(z),id(p))"
   ]
  },
  {
   "cell_type": "code",
   "execution_count": null,
   "metadata": {},
   "outputs": [],
   "source": [
    "z = {1,2,3,4,5} \n",
    "q = z.copy()\n",
    "print(q)\n",
    "print(id(z),id(q))"
   ]
  },
  {
   "cell_type": "markdown",
   "metadata": {
    "deletable": false,
    "editable": false,
    "nbgrader": {
     "cell_type": "markdown",
     "checksum": "340d95ed47a17ad945e9346445d72aa6",
     "grade": false,
     "grade_id": "cell-a77ac242a1ac03c0",
     "locked": true,
     "schema_version": 3,
     "solution": false
    }
   },
   "source": [
    "### Metody wbudowane dla zbiorów.\n",
    "\n",
    "Metody dla zbiorów:\n",
    "https://docs.python.org/3/library/stdtypes.html#set\n",
    "\n",
    "Wybrane metody do użycia:\n",
    "- `add(elem)` - dodaje element `elem` do zbioru.\n",
    "- `remove(elem)` - usuwa element `elem` ze zbioru. Jeżeli elementu nie ma błąd ` KeyError`.\n",
    "- `discard(elem)` - usuwa element `elem` ze zbioru jeżeli w nim jest.\n",
    "- `pop()` - usuwa i zwraca dowolny element ze zbioru.\n",
    "- `clear()` - usuwa wszystkie elementy.\n",
    "- `issubset(z)` - sprawdza czy dany zbiór jest podzbiorem zbioru `z`.\n",
    "- `issuperset(z)` - sprawdza czy dany zbiór zawiera zbiór `z`.\n",
    "\n",
    "__Uwaga!__ Wiekszość metod dla zbiorów modyfikuje zbiór i zwraca `None`."
   ]
  },
  {
   "cell_type": "code",
   "execution_count": null,
   "metadata": {},
   "outputs": [],
   "source": [
    "z = {1,2,3,4,5} \n",
    "z.add(6)  # dodaje element\n",
    "print(z)\n",
    "z.remove(1)  # usuwa element\n",
    "print(z)\n",
    "z.discard(1)  # usuwa element\n",
    "print(z)\n",
    "w = z.pop()  # usuwa i zwraca\n",
    "print(z,w)\n",
    "z.clear()\n",
    "print(z)"
   ]
  },
  {
   "cell_type": "code",
   "execution_count": null,
   "metadata": {},
   "outputs": [],
   "source": [
    "a = set('informatyka')\n",
    "b = set('format')\n",
    "print(a,b)\n",
    "print(b.issubset(a))\n",
    "print(a.issuperset(b))"
   ]
  },
  {
   "cell_type": "markdown",
   "metadata": {
    "deletable": false,
    "editable": false,
    "nbgrader": {
     "cell_type": "markdown",
     "checksum": "8c738a0e83bd26676a6bb73a0caf97c8",
     "grade": false,
     "grade_id": "cell-d72f0b41a79b0a91",
     "locked": true,
     "schema_version": 3,
     "solution": false
    }
   },
   "source": [
    "Do tworzenia zbioru można użyć konstrukcji typu: `set comprehension`."
   ]
  },
  {
   "cell_type": "code",
   "execution_count": null,
   "metadata": {},
   "outputs": [],
   "source": [
    "z = {i for i in 'informatyka' if i not in 'format'}\n",
    "print(z)"
   ]
  },
  {
   "cell_type": "markdown",
   "metadata": {
    "deletable": false,
    "editable": false,
    "nbgrader": {
     "cell_type": "markdown",
     "checksum": "9a8a3aa73d797e625f7ae08953b28284",
     "grade": false,
     "grade_id": "cell-7a98ba2a975b8d69",
     "locked": true,
     "schema_version": 3,
     "solution": false
    }
   },
   "source": [
    "### Ćwiczenie 2\n",
    "Używając zbiorów sprawdź, czy wszystkie litery słowa `slowo` znajdują się w tekście `tekst`."
   ]
  },
  {
   "cell_type": "code",
   "execution_count": 20,
   "metadata": {
    "deletable": false,
    "nbgrader": {
     "cell_type": "code",
     "checksum": "438f7a7defab062e130532b996c20c89",
     "grade": false,
     "grade_id": "cell-9b7d748058dddf78",
     "locked": false,
     "schema_version": 3,
     "solution": true
    }
   },
   "outputs": [
    {
     "name": "stdout",
     "output_type": "stream",
     "text": [
      "False\n"
     ]
    }
   ],
   "source": [
    "slowo = set('ponaddwustudziewięćdziesięciodziewięciokilometrowy')\n",
    "\n",
    "tekst = set(\"\"\"Najdłuższym polskim słowem mającym dokładnie jedną samogłoskę (czyli jednosylabowym) jest “chrząszcz” (9 liter), choć ma tylko 5 głosek.\n",
    "W innych słowiańskich językach można stworzyć słowa w ogóle bez samogłosek np. sk:vlk czy hr:krk. To drugie znamy też z nazwy słoweńskiej firmy farmaceutycznej: Krka.\n",
    "Najbardziej bezwzględnym słowem dla samogłosek jest właśnie słowo “beZWZGLędny”, bo ma aż pięć spółgłosek obok siebie.\"\"\")\n",
    "\n",
    "print(slowo in tekst)"
   ]
  },
  {
   "cell_type": "markdown",
   "metadata": {
    "deletable": false,
    "editable": false,
    "nbgrader": {
     "cell_type": "markdown",
     "checksum": "717c6ac91437fcdb16a052351737eea8",
     "grade": false,
     "grade_id": "cell-fd0d4492c3c1bfdb",
     "locked": true,
     "schema_version": 3,
     "solution": false
    }
   },
   "source": [
    "## Słowniki\n",
    "\n",
    "- Słownik to nowy typ zmiennych: `dict`. Jest obiektem mapującym tzn. służy mapowaniu nazw na obiekty (tablica asocjacyjna).\n",
    "- Słownik można traktować jako nieuporządkowany zbiór par `klucz:wartość`, z założeniem, że klucze są unikalne (w jednym słowniku).\n",
    "- Słowniki indeksowane są kluczami co oznacza, że do elementów słownika odwołujemy się poprzez klucze. Klucze mogą być obiektami dowolnego, niemutowalnego typu (napisy, liczby, tuple). \n",
    "- Para nawiasów klamrowych tworzy pusty słownik: `{}`.\n",
    "- Umieszczenie listy par `klucz:wartość`, oddzielonych przecinkami w nawiasach `{}` dodaje początkowe pary `klucz:wartość` do słownika.\n",
    "\n",
    "#### Proste przykłady:"
   ]
  },
  {
   "cell_type": "code",
   "execution_count": null,
   "metadata": {},
   "outputs": [],
   "source": [
    "d = {'imie': 'Karol', 'nazwisko': 'Górski'}  # tworzenie słownika\n",
    "print(d)\n",
    "type(d)"
   ]
  },
  {
   "cell_type": "code",
   "execution_count": null,
   "metadata": {},
   "outputs": [],
   "source": [
    "d['imie']  # odwołanie do elementu słownika poprzez klucz"
   ]
  },
  {
   "cell_type": "code",
   "execution_count": null,
   "metadata": {},
   "outputs": [],
   "source": [
    "b = {}  # tworzenie pustego słownika\n",
    "type(d)"
   ]
  },
  {
   "cell_type": "markdown",
   "metadata": {
    "deletable": false,
    "editable": false,
    "nbgrader": {
     "cell_type": "markdown",
     "checksum": "2f037e5f6bbf4279b3c76e9e456975b9",
     "grade": false,
     "grade_id": "cell-f4d0ccd23d94ef9e",
     "locked": true,
     "schema_version": 3,
     "solution": false
    }
   },
   "source": [
    "Klucze słownika mogą mieć postać list wartości oddzielonych przecinkami (krotki)."
   ]
  },
  {
   "cell_type": "code",
   "execution_count": 21,
   "metadata": {},
   "outputs": [
    {
     "data": {
      "text/plain": [
       "{(0, 1, 2): 'jeden', (1, 2, 3): 'dwa'}"
      ]
     },
     "execution_count": 21,
     "metadata": {},
     "output_type": "execute_result"
    }
   ],
   "source": [
    "b = {} \n",
    "b[0,1,2] = 'jeden'\n",
    "b[1,2,3] = 'dwa'\n",
    "b"
   ]
  },
  {
   "cell_type": "markdown",
   "metadata": {
    "deletable": false,
    "editable": false,
    "nbgrader": {
     "cell_type": "markdown",
     "checksum": "cf244fad43c6a3063eacf23a71c52e04",
     "grade": false,
     "grade_id": "cell-f3460ad886ced470",
     "locked": true,
     "schema_version": 3,
     "solution": false
    }
   },
   "source": [
    "### Podstawowe operacje na słownikach.\n",
    "\n",
    "Głównymi operacjami na słownikach są:\n",
    "\n",
    "- Dodawanie wartości z jakimś kluczem.\n",
    "- Pobieranie wartości opatrzonej podanym kluczem.\n",
    "- Usuwanie pary `klucz:wartość` za pomoca instrukcji `del`.\n",
    "- `len()` Zwraca liczbę elementów w słowniku."
   ]
  },
  {
   "cell_type": "code",
   "execution_count": null,
   "metadata": {},
   "outputs": [],
   "source": [
    "d = {'imie': 'Karol', 'nazwisko': 'Górski'}\n",
    "d['wiek'] = 22  # dodanie nowego pola - wartość z kluczem\n",
    "print(d)"
   ]
  },
  {
   "cell_type": "code",
   "execution_count": null,
   "metadata": {},
   "outputs": [],
   "source": [
    "print(d['imie'])  # odwołanie do elementu przez klucz"
   ]
  },
  {
   "cell_type": "code",
   "execution_count": null,
   "metadata": {},
   "outputs": [],
   "source": [
    "d['imie'] = 'Paweł'  #zmiana wartości dla istniejącego klucza - poprzednia wartość zapominana\n",
    "print(d['imie'])"
   ]
  },
  {
   "cell_type": "code",
   "execution_count": null,
   "metadata": {},
   "outputs": [],
   "source": [
    "del d['wiek']  # usunięcie klucza wiek (z wartością)\n",
    "d"
   ]
  },
  {
   "cell_type": "code",
   "execution_count": null,
   "metadata": {},
   "outputs": [],
   "source": [
    "print(len(d))  # liczba elementów (par klucz:wartość)"
   ]
  },
  {
   "cell_type": "markdown",
   "metadata": {
    "deletable": false,
    "editable": false,
    "nbgrader": {
     "cell_type": "markdown",
     "checksum": "38538682df385546dd2793f6177176e0",
     "grade": false,
     "grade_id": "cell-2f3a009ecf820c1e",
     "locked": true,
     "schema_version": 3,
     "solution": false
    }
   },
   "source": [
    "Próba pozyskania wartości spod klucza, który nie istnieje w słowniku - błąd klucza!"
   ]
  },
  {
   "cell_type": "code",
   "execution_count": null,
   "metadata": {},
   "outputs": [],
   "source": [
    "d['wiek']"
   ]
  },
  {
   "cell_type": "markdown",
   "metadata": {
    "deletable": false,
    "editable": false,
    "nbgrader": {
     "cell_type": "markdown",
     "checksum": "17322435d54b7840107e7bf21bfbd13d",
     "grade": false,
     "grade_id": "cell-280c218d883f4742",
     "locked": true,
     "schema_version": 3,
     "solution": false
    }
   },
   "source": [
    "### Kopiowanie słowników.\n",
    "Kopiowanie słowników odbywa się poprzez referencje. Aby skopiować słownik tworząc nowy obiekt należy użyć\n",
    "metody `copy()` klasy `dict`."
   ]
  },
  {
   "cell_type": "code",
   "execution_count": null,
   "metadata": {},
   "outputs": [],
   "source": [
    "d = {'imie': 'Karol', 'nazwisko': 'Górski'}\n",
    "s = d  # referencja\n",
    "print(s)\n",
    "print(id(d), id(s))"
   ]
  },
  {
   "cell_type": "code",
   "execution_count": null,
   "metadata": {},
   "outputs": [],
   "source": [
    "d = {'imie': 'Karol', 'nazwisko': 'Górski'}\n",
    "r = d.copy()  # kopia\n",
    "print(r)\n",
    "print(id(d), id(r))"
   ]
  },
  {
   "cell_type": "markdown",
   "metadata": {
    "deletable": false,
    "editable": false,
    "nbgrader": {
     "cell_type": "markdown",
     "checksum": "252769c1e3f1395f67d2e9614fc0aa11",
     "grade": false,
     "grade_id": "cell-57d8519c83de35df",
     "locked": true,
     "schema_version": 3,
     "solution": false
    }
   },
   "source": [
    "### Metody wbudowane dla słowników.\n",
    "\n",
    "Metody dla słowników:\n",
    "https://docs.python.org/3/library/stdtypes.html#dict\n",
    "\n",
    "Wybrane metody do użycia:\n",
    "- `keys()` - zwraca listę kluczy w słowniku.\n",
    "- `values()` - zwraca listę wartości w słowniku.\n",
    "- `items()` - zwraca listę par `(klucz,wartość)`.\n",
    "- `update(s)` - dodaje do słownika wszystkie elementy ze słownika s.\n",
    "- `pop(klucz)` - usuwa wskazany `klucz` ze słownika i zwraca przypisaną mu wartość.\n",
    "- `popitem()` - usuwa parę `(klucz,wartość)` i zwraca ją w postaci tupli (iteracyjne usuwanie zawartości słownika). Pary są zwracane w kolejności LIFO.\n",
    "- `clear()` - usuwa wszystkie elementy słownika."
   ]
  },
  {
   "cell_type": "code",
   "execution_count": null,
   "metadata": {},
   "outputs": [],
   "source": [
    "d = {'imie': 'Karol', 'nazwisko': 'Górski', 'wiek': 22}\n",
    "print('1) ',d.keys())\n",
    "print('2) ',d.values())\n",
    "print('3) ',d.items())"
   ]
  },
  {
   "cell_type": "code",
   "execution_count": 68,
   "metadata": {},
   "outputs": [
    {
     "name": "stdout",
     "output_type": "stream",
     "text": [
      "{'imie': 'Karol', 'nazwisko': 'Górski', 'wiek': 22, 'miejscowość': 'Kraków', 'kod pocztowy': '31-876'}\n",
      "31-876\n",
      "{'imie': 'Karol', 'nazwisko': 'Górski', 'wiek': 22, 'miejscowość': 'Kraków'}\n",
      "('miejscowość', 'Kraków')\n",
      "{'imie': 'Karol', 'nazwisko': 'Górski', 'wiek': 22}\n"
     ]
    },
    {
     "data": {
      "text/plain": [
       "{}"
      ]
     },
     "execution_count": 68,
     "metadata": {},
     "output_type": "execute_result"
    }
   ],
   "source": [
    "d = {'imie': 'Karol', 'nazwisko': 'Górski', 'wiek': 22}\n",
    "s = {'miejscowość': 'Kraków', 'kod pocztowy': '31-876'}\n",
    "d.update(s)\n",
    "print(d)\n",
    "print(d.pop('kod pocztowy'))\n",
    "print(d)\n",
    "print(d.popitem())\n",
    "print(d)\n",
    "d.clear()\n",
    "d"
   ]
  },
  {
   "cell_type": "markdown",
   "metadata": {
    "deletable": false,
    "editable": false,
    "nbgrader": {
     "cell_type": "markdown",
     "checksum": "eee6bda1c54d94366226cf33c0e1d5e0",
     "grade": false,
     "grade_id": "cell-b63b6ae0e8bf310e",
     "locked": true,
     "schema_version": 3,
     "solution": false
    }
   },
   "source": [
    "#### Przeglądanie słowników."
   ]
  },
  {
   "cell_type": "code",
   "execution_count": null,
   "metadata": {},
   "outputs": [],
   "source": [
    "d = {'imie': 'Karol', 'nazwisko': 'Górski', 'wiek': 22}\n",
    "for key in d.keys():\n",
    "    print(key, end = ', ')"
   ]
  },
  {
   "cell_type": "code",
   "execution_count": 67,
   "metadata": {},
   "outputs": [
    {
     "name": "stdout",
     "output_type": "stream",
     "text": [
      "imie, nazwisko, "
     ]
    }
   ],
   "source": [
    "# iterowanie po kluczach jest równoważne z iterowaniem po słowniku\n",
    "for el in d:\n",
    "    print(el, end = ', ')"
   ]
  },
  {
   "cell_type": "code",
   "execution_count": null,
   "metadata": {},
   "outputs": [],
   "source": [
    "for values in d.values():\n",
    "    print(values, end = ', ')"
   ]
  },
  {
   "cell_type": "code",
   "execution_count": null,
   "metadata": {},
   "outputs": [],
   "source": [
    "for item in d.items():\n",
    "    print(item, end = ', ')"
   ]
  },
  {
   "cell_type": "code",
   "execution_count": null,
   "metadata": {},
   "outputs": [],
   "source": [
    "for key, values in d.items():\n",
    "    print(key, values)"
   ]
  },
  {
   "cell_type": "markdown",
   "metadata": {
    "deletable": false,
    "editable": false,
    "nbgrader": {
     "cell_type": "markdown",
     "checksum": "b5cf309870a0c0c3df5abea35a0371a9",
     "grade": false,
     "grade_id": "cell-6d70495c386426e5",
     "locked": true,
     "schema_version": 3,
     "solution": false
    }
   },
   "source": [
    "### Operatory `in`, `not in`.\n",
    "\n",
    "Sprawdzenie czy klucz znajduje się w słowniku."
   ]
  },
  {
   "cell_type": "code",
   "execution_count": 23,
   "metadata": {},
   "outputs": [
    {
     "data": {
      "text/plain": [
       "True"
      ]
     },
     "execution_count": 23,
     "metadata": {},
     "output_type": "execute_result"
    }
   ],
   "source": [
    "d = {'imie': 'Karol', 'nazwisko': 'Górski'}\n",
    "'imie' in d"
   ]
  },
  {
   "cell_type": "markdown",
   "metadata": {
    "deletable": false,
    "editable": false,
    "nbgrader": {
     "cell_type": "markdown",
     "checksum": "cc6bac661e3cf4d8271b0fb8f066f0ee",
     "grade": false,
     "grade_id": "cell-25e054e5172f6847",
     "locked": true,
     "schema_version": 3,
     "solution": false
    }
   },
   "source": [
    "Sprawdzenie czy wartość znajduje się w słowniku."
   ]
  },
  {
   "cell_type": "code",
   "execution_count": 24,
   "metadata": {},
   "outputs": [
    {
     "name": "stdout",
     "output_type": "stream",
     "text": [
      "dict_values(['Karol', 'Górski'])\n"
     ]
    },
    {
     "data": {
      "text/plain": [
       "False"
      ]
     },
     "execution_count": 24,
     "metadata": {},
     "output_type": "execute_result"
    }
   ],
   "source": [
    "print(d.values())\n",
    "'Michał' in d.values()"
   ]
  },
  {
   "cell_type": "markdown",
   "metadata": {
    "deletable": false,
    "editable": false,
    "nbgrader": {
     "cell_type": "markdown",
     "checksum": "55aa3988bcfe417392946a6b2287b42c",
     "grade": false,
     "grade_id": "cell-26b37861986bd9e7",
     "locked": true,
     "schema_version": 3,
     "solution": false,
     "task": false
    }
   },
   "source": [
    "Do tworzenia słownika można użyć konstrukcji typu: `dict comprehension`."
   ]
  },
  {
   "cell_type": "code",
   "execution_count": 22,
   "metadata": {},
   "outputs": [
    {
     "name": "stdout",
     "output_type": "stream",
     "text": [
      "{1: 1, 2: 8, 3: 27}\n"
     ]
    },
    {
     "data": {
      "text/plain": [
       "'brak'"
      ]
     },
     "execution_count": 22,
     "metadata": {},
     "output_type": "execute_result"
    }
   ],
   "source": [
    "s = {i : i**3 for i in (1, 2, 3)}\n",
    "print(s)\n",
    "s.get(4,'brak')"
   ]
  },
  {
   "cell_type": "markdown",
   "metadata": {
    "deletable": false,
    "editable": false,
    "nbgrader": {
     "cell_type": "markdown",
     "checksum": "cef5b273a126a44fe7500daeb356c68a",
     "grade": false,
     "grade_id": "cell-43d7d9d00155c5a9",
     "locked": true,
     "schema_version": 3,
     "solution": false
    }
   },
   "source": [
    "### Ćwiczenie 3\n",
    "Wykorzystując słownik jako licznik napisz program, który zliczy ile razy dana litera występuje w podanym słowie/tekście."
   ]
  },
  {
   "cell_type": "code",
   "execution_count": 25,
   "metadata": {
    "deletable": false,
    "nbgrader": {
     "cell_type": "code",
     "checksum": "b279c072eca9e15f0fccdb74e026ba77",
     "grade": false,
     "grade_id": "cell-0f9165c0147c65b0",
     "locked": false,
     "schema_version": 3,
     "solution": true
    }
   },
   "outputs": [
    {
     "data": {
      "text/plain": [
       "{'r': 5,\n",
       " 'i': 4,\n",
       " 'n': 5,\n",
       " 'd': 1,\n",
       " 'f': 2,\n",
       " 'l': 1,\n",
       " 'e': 9,\n",
       " 's': 5,\n",
       " 'c': 2,\n",
       " 'h': 2,\n",
       " 't': 5,\n",
       " 'k': 1,\n",
       " 'u': 4,\n",
       " 'g': 6,\n",
       " 'ü': 2,\n",
       " 'b': 3,\n",
       " 'w': 1,\n",
       " 'a': 4,\n",
       " 'z': 1}"
      ]
     },
     "execution_count": 25,
     "metadata": {},
     "output_type": "execute_result"
    }
   ],
   "source": [
    "slowo = 'Rindfleischetikettierungsüberwachungsaufgabenübertragungsgesetz'\n",
    "\n",
    "def count_letters(text):\n",
    "      result = {}\n",
    "      for letter in text:\n",
    "        if letter not in result:\n",
    "          result[letter.lower()] = 1\n",
    "        else:\n",
    "          result[letter.lower()] += 1\n",
    "      return result\n",
    "\n",
    "\n",
    "count_letters(slowo)\n"
   ]
  },
  {
   "cell_type": "markdown",
   "metadata": {
    "deletable": false,
    "editable": false,
    "nbgrader": {
     "cell_type": "markdown",
     "checksum": "8ba8b355bdc831090365908bd71cb728",
     "grade": false,
     "grade_id": "cell-781b6d931ec105a3",
     "locked": true,
     "schema_version": 3,
     "solution": false
    }
   },
   "source": [
    "### Ćwiczenie 4\n",
    "Wykorzystując słownik napisz translator tekstu na alfabet Mors'a.\n",
    "\n",
    "Szczegółowe informacje znajdziesz pod linkiem : http://alfabetmorsa.pl/\n",
    "\n",
    "Przetłumacz poniższy tekst. Załóżmy, że znakiem rozdzielającym słowa w alfabecie Morse'a jest znak `/`."
   ]
  },
  {
   "cell_type": "code",
   "execution_count": null,
   "metadata": {
    "deletable": false,
    "nbgrader": {
     "cell_type": "code",
     "checksum": "31eaf7352adb452971f01fd73f0963aa",
     "grade": false,
     "grade_id": "cell-1469c5583f2ad090",
     "locked": false,
     "schema_version": 3,
     "solution": true
    }
   },
   "outputs": [],
   "source": [
    "litery = ['A','B','C','D','E','F','G','H','I','J','K','L','M','N','O','P','Q','R','S','T','U',\n",
    "          'V','W','X','Y','Z',' ']\n",
    "mors = ['•-','-•••','-•-•','-••','•','••-•','--•','••••','••','•---','-•-','•-••','--','-•',\n",
    "        '---','•--•','--•-','•-•','•••','-','••-','•••-','•--','-••-','-•--','--••','/']\n",
    "\n",
    "tekst = 'Matematyka i informatyka jest super'\n",
    "\n",
    "raise NotImplementedError()"
   ]
  },
  {
   "cell_type": "markdown",
   "metadata": {
    "deletable": false,
    "editable": false,
    "nbgrader": {
     "cell_type": "markdown",
     "checksum": "c87bcc30c66f0f9eefbf325af424975f",
     "grade": false,
     "grade_id": "cell-8d4257a410dea81d",
     "locked": true,
     "schema_version": 3,
     "solution": false
    }
   },
   "source": [
    "## Zadanie 1\n",
    "\n",
    "Uzupełnij program z __Ćwiczenia 3__ w taki sposób, aby w tekście tłumaczone były również cyfry, polskie znaki diakrytyczne, znaki interpunkcyjne i symbole. Zaimplementuj obsługę błędu w przypadku nierozpoznania znaku."
   ]
  },
  {
   "cell_type": "code",
   "execution_count": 53,
   "metadata": {
    "deletable": false,
    "nbgrader": {
     "cell_type": "code",
     "checksum": "3e9c4acbe96b9c11c25eb36988086157",
     "grade": true,
     "grade_id": "cell-e3420a362604903a",
     "locked": false,
     "points": 1,
     "schema_version": 3,
     "solution": true
    }
   },
   "outputs": [
    {
     "data": {
      "text/plain": [
       "'-- .- - . -- .- - -.-- -.- .-  ..  .. -. ..-. --- .-. -- .- - -.-- -.- .-  .--- . ... -  ... ..- .--. . .-. '"
      ]
     },
     "execution_count": 53,
     "metadata": {},
     "output_type": "execute_result"
    }
   ],
   "source": [
    "MORSE_CODE_DICT = { 'A':'.-', 'B':'-...',\n",
    "   'C':'-.-.', 'D':'-..', 'E':'.',\n",
    "   'F':'..-.', 'G':'--.', 'H':'....',\n",
    "   'I':'..', 'J':'.---', 'K':'-.-',\n",
    "   'L':'.-..', 'M':'--', 'N':'-.',\n",
    "   'O':'---', 'P':'.--.', 'Q':'--.-',\n",
    "   'R':'.-.', 'S':'...', 'T':'-',\n",
    "   'U':'..-', 'V':'...-', 'W':'.--',\n",
    "   'X':'-..-', 'Y':'-.--', 'Z':'--..',\n",
    "   '1':'.----', '2':'..---', '3':'...--',\n",
    "   '4':'....-', '5':'.....', '6':'-....',\n",
    "   '7':'--...', '8':'---..', '9':'----.',\n",
    "   '0':'-----', ', ':'--..--', '.':'.-.-.-',\n",
    "   '?':'..--..', '/':'-..-.', '-':'-....-',\n",
    "   '(':'-.--.', ')':'-.--.-'\n",
    "}\n",
    "\n",
    "def encryption(message):\n",
    "    my_cipher = ''\n",
    "    for myletter in message:\n",
    "        if myletter != ' ':\n",
    "            my_cipher += MORSE_CODE_DICT[myletter] + ' '\n",
    "        else:\n",
    "            my_cipher += ' '\n",
    "    return my_cipher\n",
    "\n",
    "tekst = 'Matematyka i informatyka jest super'\n",
    "encryption(tekst.upper())\n",
    "\n"
   ]
  },
  {
   "cell_type": "markdown",
   "metadata": {
    "deletable": false,
    "editable": false,
    "nbgrader": {
     "cell_type": "markdown",
     "checksum": "0da9386cd4eda11158f8822cd3af1e2d",
     "grade": false,
     "grade_id": "cell-fea69fb6589610c6",
     "locked": true,
     "schema_version": 3,
     "solution": false
    }
   },
   "source": [
    "## Zadanie 2\n",
    "\n",
    "Wykorzystując słownik napisz translator alfabetu Morse'a na tekst. Przetłumacz poniższy tekst. Załóż, że znakiem rozdzielającym słowa w alfabecie Morse'a jest znak `/`. Zaimplementuj obsługę błędu w przypadku nierozpoznania znaku."
   ]
  },
  {
   "cell_type": "code",
   "execution_count": 2,
   "metadata": {
    "deletable": false,
    "nbgrader": {
     "cell_type": "code",
     "checksum": "e7c73a0f3da5b3dafc962c6058e2c528",
     "grade": true,
     "grade_id": "cell-9b479090231475a8",
     "locked": false,
     "points": 1,
     "schema_version": 3,
     "solution": true
    }
   },
   "outputs": [
    {
     "name": "stdout",
     "output_type": "stream",
     "text": [
      "MATEMATYKA I INFORMATYKA SĄ SUPER!\n"
     ]
    }
   ],
   "source": [
    "litery = ['A', 'B', 'C', 'D', 'E', 'F', 'G', 'H', 'I', 'J', 'K', 'L', 'M', 'N', 'O', 'P', 'Q', 'R', 'S', 'T', 'U', 'V',\n",
    "          'W', 'X', 'Y', 'Z', ' ', '0', '1', '2', '3', '4', '5', '6', '7', '8', '9', '.', ',', '\\'', '\\\"', '_', ':',\n",
    "          ';', '?', '!', '-', '+', '/', '(', ')', '=', '@', 'Ą', 'Ć', 'Ę', 'Ł', 'Ń', 'Ó', 'Ś', 'Ż', 'Ź']\n",
    "mors = ['•-', '-•••', '-•-•', '-••', '•', '••-•', '--•', '••••', '••', '•---', '-•-', '•-••', '--', '-•',\n",
    "        '---', '•--•', '--•-', '•-•', '•••', '-', '••-', '•••-', '•--', '-••-', '-•--', '--••', '/', '-----', '•----',\n",
    "        '••---', '•••--', '••••-', '•••••', '-••••', '--•••', '---••', '----•',\n",
    "        '•-•-•-', '--••--', '•----•', '•-••-•', '••--•-', '---•••', '-•-•-•', '••--••', '-•-•--', '-••••-',\n",
    "        '•-•-•', '-••-•', '-•--•', '-•--•-', '-•••-', '•--•-•',\n",
    "        '•-•-', '-•-••', '••-••', '•-••-', '--•--', '---•', '•••-•••', '--••-•', '--••- ']\n",
    "\n",
    "\n",
    "tekst = '-- •- - • -- •- - -•-- -•- •- / •• / •• -• ••-• --- •-• -- •- - -•-- -•- •- / ••• •-•- / ••• ••- •--• • •-• -•-•--'\n",
    "\n",
    "slownik = {y: x for x, y in zip(litery, mors)}\n",
    "output = []\n",
    "tekst = tekst.split(\" \")\n",
    "\n",
    "for i in tekst:\n",
    "    if i in mors:\n",
    "        output.append(slownik[i])\n",
    "\n",
    "output = \"\".join(output)\n",
    "print(output)\n",
    "\n"
   ]
  },
  {
   "cell_type": "markdown",
   "metadata": {
    "deletable": false,
    "editable": false,
    "nbgrader": {
     "cell_type": "markdown",
     "checksum": "33616a1d8a5bc34203ac2f1aa132cd83",
     "grade": false,
     "grade_id": "cell-43e02728c4710d75",
     "locked": true,
     "schema_version": 3,
     "solution": false
    }
   },
   "source": [
    "## Zadanie 3\n",
    "\n",
    "Napisz funkcję przyjmującą dwa argumenty, zwracającą parę/krotkę: drugi argument oraz sumę obu argumentów. Wykorzystaj tę funkcję do napisania funkcji zwracającej zadany wyraz ciągu Fibonacciego. \n",
    "\n",
    "https://pl.wikipedia.org/wiki/Ci%C4%85g_Fibonacciego"
   ]
  },
  {
   "cell_type": "code",
   "execution_count": 4,
   "metadata": {
    "deletable": false,
    "nbgrader": {
     "cell_type": "code",
     "checksum": "49ce80ab9ef0ba5018b66f1ae7337393",
     "grade": true,
     "grade_id": "cell-977c88527395b830",
     "locked": false,
     "points": 1,
     "schema_version": 3,
     "solution": true
    }
   },
   "outputs": [
    {
     "name": "stdout",
     "output_type": "stream",
     "text": [
      "233\n"
     ]
    }
   ],
   "source": [
    "def funkcja(a, b):\n",
    "    return b, a + b\n",
    "\n",
    "\n",
    "def fibonacci(x):\n",
    "    if x == 0:\n",
    "        return 0\n",
    "    elif x == 1:\n",
    "        return 1\n",
    "    else:\n",
    "        x -= 2\n",
    "        a, b = 1, 1\n",
    "        for i in range(x):\n",
    "            a, b = funkcja(a, b)\n",
    "\n",
    "        return b\n",
    "        \n",
    "    \n",
    "\n",
    "\n",
    "\n",
    "print(fibonacci(13))"
   ]
  },
  {
   "cell_type": "markdown",
   "metadata": {
    "deletable": false,
    "editable": false,
    "nbgrader": {
     "cell_type": "markdown",
     "checksum": "b0b38852ca08e4131fed2add8ff4a412",
     "grade": false,
     "grade_id": "cell-0804a9e90b63cb34",
     "locked": true,
     "schema_version": 3,
     "solution": false,
     "task": false
    }
   },
   "source": [
    "## Zadanie 4\n",
    "\n",
    "Napisz funkcję 'rozmywającą' listę. Funkcja powinna jako argument przyjmować listę i wagi, utworzyć kopię przesłaniej listy, której każdy element (poza pierwszym i ostatnim) jest zamieniamy na średnią ważoną siebie oraz swoich bezpośrednich sąsiadów, z przesłanymi wagami. Funkcja powinna zwrócić nową listę – przesłana jako argument nie powinna być modyfikowana.\n",
    "Utwórz listę 20 losowych liczb i zaprezentuj działanie powyższej funkcji.\n",
    "Przykładowe wywołania i wyniki:\n",
    "``` python\n",
    "print( fun4( [3, 1, 2, 0, 4], (1,1,1)) )\n",
    "```\n",
    "\n",
    "`[3, 2.0, 1.0, 2.0, 4]`\n",
    "\n",
    "```python\n",
    "print( fun4( [3, 1, 2, 0, 4], (2,-1,2)) )\n",
    "```\n",
    "\n",
    "`[3, 3.0, 0.0, 4.0, 4]`"
   ]
  },
  {
   "cell_type": "code",
   "execution_count": 5,
   "metadata": {
    "deletable": false,
    "nbgrader": {
     "cell_type": "code",
     "checksum": "4856f85f2bcf3fa3165b85db4648ec18",
     "grade": true,
     "grade_id": "cell-86ce006af56f966e",
     "locked": false,
     "points": 1,
     "schema_version": 3,
     "solution": true,
     "task": false
    }
   },
   "outputs": [
    {
     "name": "stdout",
     "output_type": "stream",
     "text": [
      "[79, 55.3, 49.75, 49.6, 48.0, 51.09090909090909, 51.888888888888886, 39.0, 44.9, 68]\n"
     ]
    }
   ],
   "source": [
    "import random\n",
    "import copy\n",
    "import random\n",
    "\n",
    "lista4 = [random.randint(0,100) for x in range(10)]\n",
    "wagi = [random.randint(1,5) for x in range(10)]\n",
    "\n",
    "\n",
    "def fun4(lista, wagi):\n",
    "    lista1 = copy.deepcopy(lista)\n",
    "    for x in range(1, len(lista) - 1):\n",
    "        lista1[x] = sum([lista[x - 1] * wagi[x - 1], lista[x] * wagi[x], lista[x + 1] * wagi[x + 1]]) / (\n",
    "                wagi[x - 1] + wagi[x] + wagi[x + 1])\n",
    "    return lista1\n",
    "\n",
    "\n",
    "print(fun4(lista4, wagi))\n",
    "\n",
    "\n",
    "\n"
   ]
  },
  {
   "cell_type": "markdown",
   "metadata": {
    "deletable": false,
    "editable": false,
    "nbgrader": {
     "cell_type": "markdown",
     "checksum": "3ba662b36ff9dd1314e5bec3d45782d5",
     "grade": false,
     "grade_id": "cell-05b44e82560dccc4",
     "locked": true,
     "schema_version": 3,
     "solution": false,
     "task": false
    }
   },
   "source": [
    "## Zadanie 5\n",
    "\n",
    "Utwórz słownik `imię=>ocena`, zawierający oceny czterech przykładowych osób. Napisz funkcję przyjmującą jako argument słownik, wypisującą listę osób w kolejności alfabetycznej. Napisz funkcję przyjmującą jako argument słownik, wypisującą listę osób wraz z ocenami w dowolnej kolejności."
   ]
  },
  {
   "cell_type": "code",
   "execution_count": 90,
   "metadata": {
    "deletable": false,
    "nbgrader": {
     "cell_type": "code",
     "checksum": "b96ba71641f06767cd86225b1704ab01",
     "grade": true,
     "grade_id": "cell-802ecb70d80dc053",
     "locked": false,
     "points": 1,
     "schema_version": 3,
     "solution": true,
     "task": false
    }
   },
   "outputs": [
    {
     "name": "stdout",
     "output_type": "stream",
     "text": [
      "['Adam', 'Ewa', 'Jola', 'Marcin']\n",
      "['Jola', 'Ewa', 'Marcin', 'Adam']\n"
     ]
    }
   ],
   "source": [
    "import random\n",
    "oceny = {\"Adam\" : 2, \"Ewa\" : 3, \"Marcin\" : 5, \"Jola\" : 4}\n",
    "\n",
    "def funkcja(slownik):\n",
    "    x=sorted(slownik.keys())\n",
    "    print(x)\n",
    "    \n",
    "def funkcja2(slownik):\n",
    "    x=list(slownik.keys())\n",
    "    random.shuffle(x)\n",
    "    print(x)\n",
    "\n",
    "funkcja(oceny)\n",
    "funkcja2(oceny)\n",
    "    "
   ]
  },
  {
   "cell_type": "markdown",
   "metadata": {
    "deletable": false,
    "editable": false,
    "nbgrader": {
     "cell_type": "markdown",
     "checksum": "3d4d987291d24574c9076b998bcd6caf",
     "grade": false,
     "grade_id": "cell-649a9c0157cab4c5",
     "locked": true,
     "schema_version": 3,
     "solution": false,
     "task": false
    }
   },
   "source": [
    "## Zadanie 6\n",
    "\n",
    "Utwórz słownik słowników, `imię=>(kategoria=>ocena)`, przechowujący listę osób, oraz ocen z różnych kategorii (`kolokwium 1`, `odpowiedź ustna 2` itp). Napisz funkcję przyjmującą jako argument powyższy słownik, liczącą średnią arytmetyczną wszystkich ocen danej osoby, wypisującą listę osób których średnia ocen jest niższa od 3.0. Napisz funkcję wypisującą średnią ocen wszystkich osób z podanej kategorii (np. średnią ocen wszystkich osób za `python 1` itd.).\n"
   ]
  },
  {
   "cell_type": "code",
   "execution_count": 6,
   "metadata": {
    "deletable": false,
    "nbgrader": {
     "cell_type": "code",
     "checksum": "b099f15b6fddf42f0d18e40c1b2df792",
     "grade": true,
     "grade_id": "cell-79b1a8dc39c37fbd",
     "locked": false,
     "points": 1,
     "schema_version": 3,
     "solution": true,
     "task": false
    }
   },
   "outputs": [
    {
     "name": "stdout",
     "output_type": "stream",
     "text": [
      "Paweł 2.3333333333333335\n",
      "Maria 2.3333333333333335\n",
      "14\n"
     ]
    }
   ],
   "source": [
    "dict_rate = {\n",
    "    \"Adam\": { \"kolokwium 1\": 5, \"kolokwium 2\": 4.5,\"lisp 1\" : 5 },\n",
    "    \"Natalia\": { \"kolokwium 1\": 4, \"kolokwium 2\": 3.5, \"lisp 1\" : 2 },\n",
    "    \"Paweł\": { \"kolokwium 1\": 3, \"kolokwium 2\": 2, \"lisp 1\" : 2 },\n",
    "    \"Maria\": { \"kolokwium 1\": 2, \"kolokwium 2\": 2, \"lisp 1\": 3 }\n",
    "}\n",
    "\n",
    "def fun6_1(slownik):\n",
    "    for i in slownik:\n",
    "        suma = 0\n",
    "        for j in slownik[i].values():\n",
    "            suma += j\n",
    "        if suma / len(slownik[i]) < 3.0:\n",
    "            print(i, suma / len(slownik[i]))\n",
    "\n",
    "\n",
    "def fun6_2(slownik, kat):\n",
    "    suma = 0\n",
    "    for i in slownik:\n",
    "        suma += slownik[i][kat]\n",
    "    print(suma)\n",
    "\n",
    "\n",
    "fun6_1(dict_rate)\n",
    "fun6_2(dict_rate, \"kolokwium 1\")"
   ]
  },
  {
   "cell_type": "markdown",
   "metadata": {
    "deletable": false,
    "editable": false,
    "nbgrader": {
     "cell_type": "markdown",
     "checksum": "390223a934e4f9453751e455cb2a25e1",
     "grade": false,
     "grade_id": "cell-8cbc019fa4f0e4f7",
     "locked": true,
     "schema_version": 3,
     "solution": false,
     "task": false
    }
   },
   "source": [
    "## Zadanie 7\n",
    "\n",
    "Utwórz słownik `imię=>wiek`. Napisz funkcję przyjmującą jako argument słownik, zwracającą słownik `imię=>długość snu`, wyliczającą zalecaną dzienną długość snu dla każdej z osób w przesłanym słowniku:\n",
    "\n",
    "- Osoby powyżej 200 roku życia uznawane są za nieumarłych, którzy powinni udać się na sen wieczny,\n",
    "- Osoby z niedodatnim wiekiem powinny zostać pominięte,\n",
    "- Dla pozostałych: \n",
    "\n",
    "$$długość\\ snu={\\frac{8\\ godzin}{log_{10}(wiek\\ w\\ latach)}}$$\n",
    "\n",
    "Powyższy wzór został zmyślony – proszę nie stosować się do niego :).\n",
    "\n",
    "Wykorzystaj mechanizm `dictionary comprehensions` oraz poniższy przykład:\n",
    "```python\n",
    "print(4 if True else 6)  # 4\n",
    "print(5 if False else 6) # 6\n",
    "\n",
    "slownik = {'a': 1, 'b': 2, 'c': 4, 'd': 1234,'e': -3}\n",
    "wynik = {'nowy_' + key: value if value > 0 else -value for key, value in slownik.items() if value < 10 }\n",
    "print(wynik)\n",
    "```\n",
    "`{'nowy_a': 1, 'nowy_b': 2, 'nowy_c': 4, 'nowy_e': 3}`\n",
    "\n",
    "Słownik `slownik` został wykorzystany do utworzenia nowego, którego klucze mają dopisany na początku tekst `nowy_`, złożony z wartości dodatnich ( `value if value > 0 else -value`), mniejszych niż 10 (`if value < 10`).\n",
    "\n"
   ]
  },
  {
   "cell_type": "code",
   "execution_count": 22,
   "metadata": {
    "deletable": false,
    "nbgrader": {
     "cell_type": "code",
     "checksum": "12fb7a98c63d1d0081320ce46deb8551",
     "grade": true,
     "grade_id": "cell-40019debf3e81e4f",
     "locked": false,
     "points": 1,
     "schema_version": 3,
     "solution": true,
     "task": false
    }
   },
   "outputs": [
    {
     "name": "stdout",
     "output_type": "stream",
     "text": [
      "{'Adam': 5.415939940230764, 'Natalia': 'sen wieczny', 'Paweł': 26.575424759098897, 'Maria': 5.874889084588445}\n",
      "None\n"
     ]
    }
   ],
   "source": [
    "import math \n",
    "dict_age = { \"Adam\": 30,\"Natalia\": 204,\"Paweł\": -2,\"Maria\": 23 }\n",
    "\n",
    "def fun7(slownik):\n",
    "     wynik = {key: \"sen wieczny\" if value > 200 else 8/math.log10(abs(value)) for key, value in dict_age.items()}\n",
    "     print(wynik)\n",
    "\n",
    "print(fun7(dict_age))"
   ]
  },
  {
   "cell_type": "markdown",
   "metadata": {
    "deletable": false,
    "editable": false,
    "nbgrader": {
     "cell_type": "markdown",
     "checksum": "a5df2f1655038aa58727c4e8a10fa63f",
     "grade": false,
     "grade_id": "cell-0563d4899b9418cc",
     "locked": true,
     "schema_version": 3,
     "solution": false,
     "task": false
    }
   },
   "source": [
    "## Zadanie 8\n",
    "\n",
    "Utwórz tablicę dwuwymiarową wielkości 10 na 10 elementów, wypełnij ją wartościami `False` oraz w losowych 20 miejscach wartościami `True` (upewnij się, że wylosowane pole nie ma wartości `True`). Napisz program pozwalający użytkownikowi wybrać element tablicy (użytkownik ma wpisać dwie liczby całkowite `x`,`y`). Wybrane współrzędne powinny zostać zapisane w pewnym zbiorze (`set`) jako krotka `(x, y)`. Jeśli użytkownik podał drugi raz te same współrzędne, powinna zostać wypisana informacja o tym (np. `\"Już tam strzelano\"`), a program powinien wrócić do wyboru współrzędnych. Jeśli podany element tablicy ma wartość `True`, wypisany powinien zostać tekst `\"Trafiony!\"`, w przeciwnym razie `\"Pudło!\"`. Program ma prosić o podanie współrzędnych do momentu zestrzelenia wszystkich wartości `True`.\n",
    "Aby dodać element do zbioru można wykorzystać operator `|` (pionowa kreska, OR) lub metodę `add`. Jak usunąć element ze zbioru? Jak uzyskać różnicę lub część wspólną (przecięcie, iloczyn) dwóch zbiorów?"
   ]
  },
  {
   "cell_type": "code",
   "execution_count": 7,
   "metadata": {
    "deletable": false,
    "nbgrader": {
     "cell_type": "code",
     "checksum": "9c8364571e959c73897bdba35f6f544d",
     "grade": true,
     "grade_id": "cell-b2b70a1aa7d62831",
     "locked": false,
     "points": 1,
     "schema_version": 3,
     "solution": true,
     "task": false
    }
   },
   "outputs": [
    {
     "name": "stdout",
     "output_type": "stream",
     "text": [
      "Pudło!\n",
      "Trafiony!\n",
      "Pudło!\n",
      "Trafiony!\n"
     ]
    },
    {
     "ename": "IndexError",
     "evalue": "list index out of range",
     "output_type": "error",
     "traceback": [
      "\u001b[1;31m---------------------------------------------------------------------------\u001b[0m",
      "\u001b[1;31mIndexError\u001b[0m                                Traceback (most recent call last)",
      "\u001b[1;32m~\\AppData\\Local\\Temp/ipykernel_23052/1963415898.py\u001b[0m in \u001b[0;36m<module>\u001b[1;34m\u001b[0m\n\u001b[0;32m     26\u001b[0m         \u001b[0mzb\u001b[0m\u001b[1;33m.\u001b[0m\u001b[0madd\u001b[0m\u001b[1;33m(\u001b[0m\u001b[1;33m(\u001b[0m\u001b[0mx\u001b[0m\u001b[1;33m,\u001b[0m \u001b[0my\u001b[0m\u001b[1;33m)\u001b[0m\u001b[1;33m)\u001b[0m\u001b[1;33m\u001b[0m\u001b[1;33m\u001b[0m\u001b[0m\n\u001b[0;32m     27\u001b[0m \u001b[1;33m\u001b[0m\u001b[0m\n\u001b[1;32m---> 28\u001b[1;33m     \u001b[1;32mif\u001b[0m \u001b[0mtab\u001b[0m\u001b[1;33m[\u001b[0m\u001b[0mx\u001b[0m\u001b[1;33m]\u001b[0m\u001b[1;33m[\u001b[0m\u001b[0my\u001b[0m\u001b[1;33m]\u001b[0m \u001b[1;33m==\u001b[0m \u001b[1;32mTrue\u001b[0m\u001b[1;33m:\u001b[0m\u001b[1;33m\u001b[0m\u001b[1;33m\u001b[0m\u001b[0m\n\u001b[0m\u001b[0;32m     29\u001b[0m         \u001b[0mprint\u001b[0m\u001b[1;33m(\u001b[0m\u001b[1;34m\"Trafiony!\"\u001b[0m\u001b[1;33m)\u001b[0m\u001b[1;33m\u001b[0m\u001b[1;33m\u001b[0m\u001b[0m\n\u001b[0;32m     30\u001b[0m         \u001b[0mcount\u001b[0m \u001b[1;33m+=\u001b[0m \u001b[1;36m1\u001b[0m\u001b[1;33m\u001b[0m\u001b[1;33m\u001b[0m\u001b[0m\n",
      "\u001b[1;31mIndexError\u001b[0m: list index out of range"
     ]
    }
   ],
   "source": [
    "import random\n",
    "tab = [[False for i in range(10)] for j in range(10)]\n",
    "count = 0\n",
    "\n",
    "while (True):\n",
    "    tmp_1, tmp_2 = random.randint(0, 9), random.randint(0, 9)\n",
    "    if tab[tmp_1][tmp_2] != True:\n",
    "        tab[tmp_1][tmp_2] = True\n",
    "        count += 1\n",
    "    if count == 20:\n",
    "        break\n",
    "\n",
    "zb = set()\n",
    "count = 0\n",
    "while (True):\n",
    "    try:\n",
    "        x = int(input(\"x:\"))\n",
    "        y = int(input(\"y:\"))\n",
    "    except:\n",
    "        continue\n",
    "\n",
    "    if (x, y) in zb:\n",
    "        print(\"Już tam strzelano!\")\n",
    "        continue\n",
    "    else:\n",
    "        zb.add((x, y))\n",
    "\n",
    "    if tab[x][y] == True:\n",
    "        print(\"Trafiony!\")\n",
    "        count += 1\n",
    "    else:\n",
    "        print(\"Pudło!\")\n",
    "\n",
    "    if count == 20:\n",
    "        break\n",
    "\n",
    "\n",
    "\n"
   ]
  },
  {
   "cell_type": "code",
   "execution_count": null,
   "metadata": {},
   "outputs": [],
   "source": []
  }
 ],
 "metadata": {
  "kernelspec": {
   "display_name": "Python 3 (ipykernel)",
   "language": "python",
   "name": "python3"
  },
  "language_info": {
   "codemirror_mode": {
    "name": "ipython",
    "version": 3
   },
   "file_extension": ".py",
   "mimetype": "text/x-python",
   "name": "python",
   "nbconvert_exporter": "python",
   "pygments_lexer": "ipython3",
   "version": "3.9.7"
  }
 },
 "nbformat": 4,
 "nbformat_minor": 2
}
